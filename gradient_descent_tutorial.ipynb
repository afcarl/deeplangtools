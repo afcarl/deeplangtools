{
 "metadata": {
  "name": "",
  "signature": "sha256:ee002ec37fd3585d9aeefe2700b467af42e2719f0d2507399b871ba2176c8186"
 },
 "nbformat": 3,
 "nbformat_minor": 0,
 "worksheets": [
  {
   "cells": [
    {
     "cell_type": "code",
     "collapsed": false,
     "input": [
      "import numpy as np\n",
      "from numpy import linalg as LA"
     ],
     "language": "python",
     "metadata": {},
     "outputs": [],
     "prompt_number": 202
    },
    {
     "cell_type": "code",
     "collapsed": false,
     "input": [
      "# simple dumb stuff with gradient descent from scratch"
     ],
     "language": "python",
     "metadata": {},
     "outputs": [],
     "prompt_number": 62
    },
    {
     "cell_type": "code",
     "collapsed": false,
     "input": [
      "inputdata= np.matrix([[2,3,4]])\n",
      "output = np.matrix([1,1,2,3])\n",
      "mat1 = np.matrix([[1,-2,1],[-1,1,-1], [0,1,2], [1,0,1]]).transpose()"
     ],
     "language": "python",
     "metadata": {},
     "outputs": [],
     "prompt_number": 112
    },
    {
     "cell_type": "code",
     "collapsed": false,
     "input": [
      "print inputdata\n",
      "print mat1\n",
      "print mat1.shape"
     ],
     "language": "python",
     "metadata": {},
     "outputs": [
      {
       "output_type": "stream",
       "stream": "stdout",
       "text": [
        "[[2 3 4]]\n",
        "[[ 1 -1  0  1]\n",
        " [-2  1  1  0]\n",
        " [ 1 -1  2  1]]\n",
        "(3, 4)\n"
       ]
      }
     ],
     "prompt_number": 204
    },
    {
     "cell_type": "code",
     "collapsed": false,
     "input": [
      "inmat = inputdata*mat1\n",
      "print inmat\n",
      "print output"
     ],
     "language": "python",
     "metadata": {},
     "outputs": [
      {
       "output_type": "stream",
       "stream": "stdout",
       "text": [
        "[[ 0 -3 11  6]]\n",
        "[[1 1 2 3]]\n"
       ]
      }
     ],
     "prompt_number": 114
    },
    {
     "cell_type": "code",
     "collapsed": false,
     "input": [
      "# portion of the gradient w/r/t the l2normsq = 2*delta \n",
      "delta = inmat-output\n",
      "print delta\n",
      "# the l2normsq\n",
      "delnorm = LA.norm(delta, ord=2)\n",
      "print delnorm*delnorm\n"
     ],
     "language": "python",
     "metadata": {},
     "outputs": [
      {
       "output_type": "stream",
       "stream": "stdout",
       "text": [
        "[[-1 -4  9  3]]\n",
        "107.0\n"
       ]
      }
     ],
     "prompt_number": 115
    },
    {
     "cell_type": "code",
     "collapsed": false,
     "input": [
      "# gradient w/r/t matrix is the input vector, so 2*delta times the input vector component is the gradient\n",
      "grad1 = (inputdata.transpose()*(2*delta))\n",
      "print grad1"
     ],
     "language": "python",
     "metadata": {},
     "outputs": [
      {
       "output_type": "stream",
       "stream": "stdout",
       "text": [
        "[[ -4 -16  36  12]\n",
        " [ -6 -24  54  18]\n",
        " [ -8 -32  72  24]]\n"
       ]
      }
     ],
     "prompt_number": 116
    },
    {
     "cell_type": "code",
     "collapsed": false,
     "input": [
      "# iteration 2 matrix\n",
      "mat2 = mat1-grad1\n",
      "print mat2"
     ],
     "language": "python",
     "metadata": {},
     "outputs": [
      {
       "output_type": "stream",
       "stream": "stdout",
       "text": [
        "[[  5  15 -36 -11]\n",
        " [  4  25 -53 -18]\n",
        " [  9  31 -70 -23]]\n"
       ]
      }
     ],
     "prompt_number": 117
    },
    {
     "cell_type": "code",
     "collapsed": false,
     "input": [
      "# new transformation\n",
      "inmat2 = inputdata*mat2\n",
      "print inmat2"
     ],
     "language": "python",
     "metadata": {},
     "outputs": [
      {
       "output_type": "stream",
       "stream": "stdout",
       "text": [
        "[[  58  229 -511 -168]]\n"
       ]
      }
     ],
     "prompt_number": 118
    },
    {
     "cell_type": "code",
     "collapsed": false,
     "input": [
      "# new l2normsq calculation\n",
      "delta2 = inmat2-output\n",
      "print delta2/57\n",
      "del2norm = LA.norm(delta2, ord=2)\n",
      "print del2norm*del2norm\n"
     ],
     "language": "python",
     "metadata": {},
     "outputs": [
      {
       "output_type": "stream",
       "stream": "stdout",
       "text": [
        "[[ 1  4 -9 -3]]\n",
        "347643.0\n"
       ]
      }
     ],
     "prompt_number": 120
    },
    {
     "cell_type": "code",
     "collapsed": false,
     "input": [
      "grad2 = (inputdata.transpose()*(2*delta2))\n",
      "print grad2"
     ],
     "language": "python",
     "metadata": {},
     "outputs": [
      {
       "output_type": "stream",
       "stream": "stdout",
       "text": [
        "[[  228   912 -2052  -684]\n",
        " [  342  1368 -3078 -1026]\n",
        " [  456  1824 -4104 -1368]]\n"
       ]
      }
     ],
     "prompt_number": 121
    },
    {
     "cell_type": "code",
     "collapsed": false,
     "input": [
      "mat3 = mat2-grad2\n",
      "print mat3"
     ],
     "language": "python",
     "metadata": {},
     "outputs": [
      {
       "output_type": "stream",
       "stream": "stdout",
       "text": [
        "[[ -223  -897  2016   673]\n",
        " [ -338 -1343  3025  1008]\n",
        " [ -447 -1793  4034  1345]]\n"
       ]
      }
     ],
     "prompt_number": 122
    },
    {
     "cell_type": "code",
     "collapsed": false,
     "input": [
      "inmat3 = inputdata*mat2\n",
      "print inmat3\n",
      "print inmat3[0,0]"
     ],
     "language": "python",
     "metadata": {},
     "outputs": [
      {
       "output_type": "stream",
       "stream": "stdout",
       "text": [
        "[[  58  229 -511 -168]]\n",
        "58\n"
       ]
      }
     ],
     "prompt_number": 133
    },
    {
     "cell_type": "code",
     "collapsed": false,
     "input": [
      "delta3 = inmat3-output\n",
      "del3norm = LA.norm(delta3, ord=2)\n",
      "print del3norm*del3norm"
     ],
     "language": "python",
     "metadata": {},
     "outputs": [
      {
       "output_type": "stream",
       "stream": "stdout",
       "text": [
        "347643.0\n"
       ]
      }
     ],
     "prompt_number": 124
    },
    {
     "cell_type": "code",
     "collapsed": false,
     "input": [
      "# a program\n",
      "mat = np.matrix([[1,-2,1],[-1,1,-1], [0,1,2], [1,0,1]]).transpose()\n",
      "learnrate=0.001\n",
      "iters=500\n",
      "period = 10\n",
      "for iteration in xrange(iters):\n",
      "    inmat = inputdata*mat\n",
      "    delta = inmat-output\n",
      "    delnorm = LA.norm(delta, ord=2)\n",
      "    l2n2 = delnorm*delnorm\n",
      "    # print l2nrm, the learned vector, and the normalized learned vector\n",
      "    if iteration % period == 0:\n",
      "        print \"iteration \"+str(iteration)\n",
      "        print str(l2n2) + \" = \" + str(inmat)\n",
      "    # learning\n",
      "    grad = inputdata.transpose()*(2*delta)\n",
      "    mat = mat-(grad*learnrate)"
     ],
     "language": "python",
     "metadata": {},
     "outputs": [
      {
       "output_type": "stream",
       "stream": "stdout",
       "text": [
        "iteration 0\n",
        "107.0 = [[ 0 -3 11  6]]\n",
        "iteration 10\n",
        "32.3893202435 = [[ 0.44981464 -1.20074143  6.95166822  4.65055607]]\n",
        "iteration 20\n",
        "9.80437444706 = [[ 0.69729607 -0.21081571  4.72433535  3.90811178]]\n",
        "iteration 30\n",
        "2.9678226519 = [[ 0.83345673  0.33382693  3.49888942  3.49962981]]\n",
        "iteration 40\n",
        "0.89837157288 = [[ 0.90837033  0.63348133  2.82466701  3.274889  ]]\n",
        "iteration 50\n",
        "0.271940603473 = [[ 0.9495867   0.79834679  2.45371971  3.1512399 ]]\n",
        "iteration 60\n",
        "0.0823174887206 = [[ 0.97226334  0.88905336  2.24962994  3.08320998]]\n",
        "iteration 70\n",
        "0.0249178271384 = [[ 0.9847397   0.93895878  2.13734274  3.04578091]]\n",
        "iteration 80\n",
        "0.0075427241398 = [[ 0.991604    0.96641602  2.07556396  3.02518799]]\n",
        "iteration 90\n",
        "0.00228321222124 = [[ 0.99538065  0.98152258  2.04157419  3.01385806]]\n",
        "iteration 100\n",
        "0.000691137306705 = [[ 0.9974585   0.989834    2.02287351  3.0076245 ]]\n",
        "iteration 110\n",
        "0.000209209977188 = [[ 0.9986017   0.99440681  2.01258467  3.00419489]]\n",
        "iteration 120\n",
        "6.33286817689e-05 = [[ 0.99923068  0.99692271  2.0069239   3.00230797]]\n",
        "iteration 130\n",
        "1.91698406954e-05 = [[ 0.99957673  0.99830692  2.00380943  3.00126981]]\n",
        "iteration 140\n",
        "5.80278606823e-06 = [[ 0.99976712  0.99906849  2.00209589  3.00069863]]\n",
        "iteration 150\n",
        "1.75652613335e-06 = [[ 0.99987187  0.9994875   2.00115313  3.00038438]]\n",
        "iteration 160\n",
        "5.31707359337e-07 = [[ 0.99992951  0.99971803  2.00063443  3.00021148]]\n",
        "iteration 170\n",
        "1.60949905957e-07 = [[ 0.99996122  0.99984486  2.00034906  3.00011635]]\n",
        "iteration 180\n",
        "4.87201686652e-08 = [[ 0.99997866  0.99991465  2.00019205  3.00006402]]\n",
        "iteration 190\n",
        "1.4747786404e-08 = [[ 0.99998826  0.99995304  2.00010566  3.00003522]]\n",
        "iteration 200\n",
        "4.46421286653e-09 = [[ 0.99999354  0.99997416  2.00005813  3.00001938]]\n",
        "iteration 210\n",
        "1.35133476802e-09 = [[ 0.99999645  0.99998578  2.00003198  3.00001066]]\n",
        "iteration 220\n",
        "4.09054341665e-10 = [[ 0.99999804  0.99999218  2.0000176   3.00000587]]\n",
        "iteration 230\n",
        "1.238223558e-10 = [[ 0.99999892  0.9999957   2.00000968  3.00000323]]\n",
        "iteration 240\n",
        "3.74815134025e-11 = [[ 0.99999941  0.99999763  2.00000533  3.00000178]]\n",
        "iteration 250\n",
        "1.13458013132e-11 = [[ 0.99999967  0.9999987   2.00000293  3.00000098]]\n",
        "iteration 260\n",
        "3.43441861723e-12 = [[ 0.99999982  0.99999928  2.00000161  3.00000054]]\n",
        "iteration 270\n",
        "1.03961200328e-12 = [[ 0.9999999   0.99999961  2.00000089  3.0000003 ]]\n",
        "iteration 280\n",
        "3.14694636502e-13 = [[ 0.99999995  0.99999978  2.00000049  3.00000016]]\n",
        "iteration 290\n",
        "9.52593026232e-14 = [[ 0.99999997  0.99999988  2.00000027  3.00000009]]\n",
        "iteration 300\n",
        "2.88353650082e-14 = [[ 0.99999998  0.99999993  2.00000015  3.00000005]]\n",
        "iteration 310\n",
        "8.72857821509e-15 = [[ 0.99999999  0.99999996  2.00000008  3.00000003]]\n",
        "iteration 320\n",
        "2.64217496555e-15 = [[ 1.          0.99999998  2.00000004  3.00000001]]\n",
        "iteration 330\n",
        "7.99796723801e-16 = [[ 1.          0.99999999  2.00000002  3.00000001]]\n",
        "iteration 340\n",
        "2.42101618626e-16 = [[ 1.          0.99999999  2.00000001  3.        ]]\n",
        "iteration 350\n",
        "7.32851190648e-17 = [[ 1.          1.          2.00000001  3.        ]]\n",
        "iteration 360\n",
        "2.21836929874e-17 = [[ 1.  1.  2.  3.]]\n",
        "iteration 370\n",
        "6.71509034769e-18 = [[ 1.  1.  2.  3.]]\n",
        "iteration 380\n",
        "2.03268382015e-18 = [[ 1.  1.  2.  3.]]\n",
        "iteration 390\n",
        "6.15302079887e-19 = [[ 1.  1.  2.  3.]]\n",
        "iteration 400\n",
        "1.86253887689e-19 = [[ 1.  1.  2.  3.]]\n",
        "iteration 410\n",
        "5.63795263004e-20 = [[ 1.  1.  2.  3.]]\n",
        "iteration 420\n",
        "1.70661794054e-20 = [[ 1.  1.  2.  3.]]\n",
        "iteration 430\n",
        "5.16604102533e-21 = [[ 1.  1.  2.  3.]]\n",
        "iteration 440\n",
        "1.56376386084e-21 = [[ 1.  1.  2.  3.]]\n",
        "iteration 450\n",
        "4.73405508696e-22 = [[ 1.  1.  2.  3.]]\n",
        "iteration 460\n",
        "1.43292417508e-22 = [[ 1.  1.  2.  3.]]\n",
        "iteration 470\n",
        "4.33865007756e-23 = [[ 1.  1.  2.  3.]]\n",
        "iteration 480\n",
        "1.31361526173e-23 = [[ 1.  1.  2.  3.]]\n",
        "iteration 490\n",
        "3.97538170147e-24 = [[ 1.  1.  2.  3.]]\n"
       ]
      }
     ],
     "prompt_number": 167
    },
    {
     "cell_type": "code",
     "collapsed": false,
     "input": [
      "# two matrix form; M = 3x5, N = 5x4\n",
      "input= np.matrix([[2,3,4]])\n",
      "output = np.matrix([1,1,2,3])\n",
      "mmat1 = np.matrix([[1,-2,1],[-1,1,-1], [0,1,2], [1,0,1],[1,0,0]]).transpose()\n",
      "nmat1 = np.matrix([[0,1,1,0],[-1,-1,1,0], [2,-2,0,1], [1,-1,0,0], [-1,0,2,2]])"
     ],
     "language": "python",
     "metadata": {},
     "outputs": [],
     "prompt_number": 168
    },
    {
     "cell_type": "code",
     "collapsed": false,
     "input": [
      "print input.shape,output.shape,mmat1.shape,nmat1.shape"
     ],
     "language": "python",
     "metadata": {},
     "outputs": [
      {
       "output_type": "stream",
       "stream": "stdout",
       "text": [
        "(1, 3) (1, 4) (3, 5) (5, 4)\n"
       ]
      }
     ],
     "prompt_number": 170
    },
    {
     "cell_type": "code",
     "collapsed": false,
     "input": [
      "im = input*mmat1\n",
      "inmat=im*nmat1\n",
      "\n",
      "delta=inmat-output\n",
      "print inmat\n",
      "print 2*delta\n",
      "print nmat1\n",
      "# like 1-matrix case but v*m is considered as v\n",
      "nupdate = im.transpose()*(2*delta)\n",
      "print nmat1.shape,nupdate.shape,nupdate\n",
      "# comes out easy, ultimately\n",
      "mupdate = input.transpose()*(2*delta)*nmat1.transpose()\n",
      "print mmat1.shape,mupdate.shape,mupdate"
     ],
     "language": "python",
     "metadata": {},
     "outputs": [
      {
       "output_type": "stream",
       "stream": "stdout",
       "text": [
        "[[ 29 -25   1  15]]\n",
        "[[ 56 -52  -2  24]]\n",
        "[[ 0  1  1  0]\n",
        " [-1 -1  1  0]\n",
        " [ 2 -2  0  1]\n",
        " [ 1 -1  0  0]\n",
        " [-1  0  2  2]]\n",
        "(5, 4) (5, 4) [[   0    0    0    0]\n",
        " [-168  156    6  -72]\n",
        " [ 616 -572  -22  264]\n",
        " [ 336 -312  -12  144]\n",
        " [ 112 -104   -4   48]]\n",
        "(3, 5) (3, 5) [[-108  -12  480  216  -24]\n",
        " [-162  -18  720  324  -36]\n",
        " [-216  -24  960  432  -48]]\n"
       ]
      }
     ],
     "prompt_number": 196
    },
    {
     "cell_type": "code",
     "collapsed": false,
     "input": [
      "inputdata= np.matrix([[2,3,4],[4,0,2]])\n",
      "output = np.matrix([[1,1,2,3],[6,0,0,7]])\n",
      "mmat = np.matrix([[1,-2,1],[-1,1,-1], [0,1,2], [1,0,1],[1,0,0]]).transpose()\n",
      "nmat = np.matrix([[0,1,1,0],[-1,-1,1,0], [2,-2,0,1], [1,-1,0,0], [-1,0,2,2]])\n",
      "im = inputdata*mmat\n",
      "imn= im*nmat\n",
      "delta = imn-output\n",
      "print delta.shape\n",
      "print im.shape\n",
      "print delta[0].shape\n",
      "twodel = 2*delta\n",
      "aao = im.transpose()*twodel\n",
      "c1 = im[0].transpose()*twodel[0]\n",
      "c2 = im[1].transpose()*twodel[1]\n",
      "comp=c1+c2\n",
      "print aao==comp\n",
      "mupdate = inputdata.transpose()*twodel*nmat.transpose()\n",
      "m1 = inputdata[0].transpose()*twodel[0]*nmat.transpose()\n",
      "m2 = inputdata[1].transpose()*twodel[1]*nmat.transpose()\n",
      "mcomp=m1+m2\n",
      "print mupdate==mcomp"
     ],
     "language": "python",
     "metadata": {},
     "outputs": [
      {
       "output_type": "stream",
       "stream": "stdout",
       "text": [
        "(2, 4)\n",
        "(2, 5)\n",
        "(1, 4)\n",
        "[[ True  True  True  True]\n",
        " [ True  True  True  True]\n",
        " [ True  True  True  True]\n",
        " [ True  True  True  True]\n",
        " [ True  True  True  True]]\n",
        "[[ True  True  True  True  True]\n",
        " [ True  True  True  True  True]\n",
        " [ True  True  True  True  True]]\n"
       ]
      }
     ],
     "prompt_number": 214
    },
    {
     "cell_type": "code",
     "collapsed": false,
     "input": [
      "# a program\n",
      "# two matrix form; M = 3x5, N = 5x4\n",
      "inputdata= np.matrix([2,3,4])\n",
      "output = np.matrix([1,1,2,3])\n",
      "mmat = np.matrix([[1,-2,1],[-1,1,-1], [0,1,2], [1,0,1],[1,0,0]]).transpose()\n",
      "nmat = np.matrix([[0,1,1,0],[-1,-1,1,0], [2,-2,0,1], [1,-1,0,0], [-1,0,2,2]])\n",
      "learnrate=0.001\n",
      "iters=500\n",
      "period = 10\n",
      "for iteration in xrange(iters):\n",
      "    im = inputdata*mmat\n",
      "    imn= im*nmat\n",
      "    delta = imn-output    \n",
      "    # print l2nrm, the learned vector, and the normalized learned vector\n",
      "    if iteration % period == 0:\n",
      "        delnorm = LA.norm(delta, ord=2)\n",
      "        l2n2 = delnorm*delnorm\n",
      "        print \"iteration \"+str(iteration)\n",
      "        print str(l2n2) + \" = \" + str(imn)\n",
      "    # learning\n",
      "    twodel = 2*delta\n",
      "    nupdate = im.transpose()*twodel\n",
      "    mupdate = inputdata.transpose()*twodel*nmat.transpose()\n",
      "    mmat = mmat-(mupdate*learnrate)\n",
      "    nmat = nmat-(nupdate*learnrate)"
     ],
     "language": "python",
     "metadata": {},
     "outputs": [
      {
       "output_type": "stream",
       "stream": "stdout",
       "text": [
        "iteration 0\n",
        "1605.0 = [[ 29 -25   1  15]]\n",
        "iteration 10\n",
        "1.62036136006 = [[ 2.05936677  1.46027323  2.37471933  3.38188662]]\n",
        "iteration 20\n",
        "0.197753973019 = [[ 1.36308599  1.17170351  2.18047186  3.06221215]]\n",
        "iteration 30\n",
        "0.0331231743518 = [[ 1.14419747  1.06172739  2.09227474  2.9976836 ]]\n",
        "iteration 40\n",
        "0.00666546742137 = [[ 1.06101915  1.02330699  2.04745338  2.98787184]]\n",
        "iteration 50\n",
        "0.00150108218168 = [[ 1.0269686   1.00916944  2.02434441  2.99014872]]\n",
        "iteration 60\n",
        "0.000360055272186 = [[ 1.01232654  1.0037488   2.01244433  2.99373925]]\n",
        "iteration 70\n",
        "8.9226059058e-05 = [[ 1.0057847   1.00159085  2.00634147  2.99639192]]\n",
        "iteration 80\n",
        "2.2469226627e-05 = [[ 1.00277053  1.00069921  2.00322389  2.99802237]]\n",
        "iteration 90\n",
        "5.70214736085e-06 = [[ 1.00134742  1.00031712  2.00163617  2.99894691]]\n",
        "iteration 100\n",
        "1.45239575257e-06 = [[ 1.00066274  1.00014771  2.00082938  2.9994491 ]]\n",
        "iteration 110\n",
        "3.70585401647e-07 = [[ 1.00032864  1.00007029  2.00042006  2.99971506]]\n",
        "iteration 120\n",
        "9.4634646311e-08 = [[ 1.00016392  1.00003401  2.00021263  2.99985372]]\n",
        "iteration 130\n",
        "2.41758595226e-08 = [[ 1.00008209  1.00001667  2.00010758  2.99992527]]\n",
        "iteration 140\n",
        "6.17723701067e-09 = [[ 1.00004123  1.00000824  2.00005442  2.99996195]]\n",
        "iteration 150\n",
        "1.57850098087e-09 = [[ 1.00002075  1.0000041   2.00002752  2.99998067]]\n",
        "iteration 160\n",
        "4.03379309088e-10 = [[ 1.00001046  1.00000205  2.00001392  2.9999902 ]]\n",
        "iteration 170\n",
        "1.03083941789e-10 = [[ 1.00000528  1.00000103  2.00000704  2.99999503]]\n",
        "iteration 180\n",
        "2.6343442386e-11 = [[ 1.00000266  1.00000052  2.00000356  2.99999748]]\n",
        "iteration 190\n",
        "6.73218417082e-12 = [[ 1.00000134  1.00000026  2.0000018   2.99999873]]\n",
        "iteration 200\n",
        "1.72044337184e-12 = [[ 1.00000068  1.00000013  2.00000091  2.99999936]]\n",
        "iteration 210\n",
        "4.39668365764e-13 = [[ 1.00000034  1.00000007  2.00000046  2.99999967]]\n",
        "iteration 220\n",
        "1.12359621565e-13 = [[ 1.00000017  1.00000003  2.00000023  2.99999984]]\n",
        "iteration 230\n",
        "2.87141139651e-14 = [[ 1.00000009  1.00000002  2.00000012  2.99999992]]\n",
        "iteration 240\n",
        "7.33804921768e-15 = [[ 1.00000004  1.00000001  2.00000006  2.99999996]]\n",
        "iteration 250\n",
        "1.87527890529e-15 = [[ 1.00000002  1.          2.00000003  2.99999998]]\n",
        "iteration 260\n",
        "4.79237849319e-16 = [[ 1.00000001  1.          2.00000002  2.99999999]]\n",
        "iteration 270\n",
        "1.22471874597e-16 = [[ 1.00000001  1.          2.00000001  2.99999999]]\n",
        "iteration 280\n",
        "3.12983725342e-17 = [[ 1.  1.  2.  3.]]\n",
        "iteration 290\n",
        "7.99847709923e-18 = [[ 1.  1.  2.  3.]]\n",
        "iteration 300\n",
        "2.0440529851e-18 = [[ 1.  1.  2.  3.]]\n",
        "iteration 310\n",
        "5.22365564698e-19 = [[ 1.  1.  2.  3.]]\n",
        "iteration 320\n",
        "1.33494410131e-19 = [[ 1.  1.  2.  3.]]\n",
        "iteration 330\n",
        "3.41151609943e-20 = [[ 1.  1.  2.  3.]]\n",
        "iteration 340\n",
        "8.71832394373e-21 = [[ 1.  1.  2.  3.]]\n",
        "iteration 350\n",
        "2.22818985195e-21 = [[ 1.  1.  2.  3.]]\n",
        "iteration 360\n",
        "5.69406227252e-22 = [[ 1.  1.  2.  3.]]\n",
        "iteration 370\n",
        "1.45522467679e-22 = [[ 1.  1.  2.  3.]]\n",
        "iteration 380\n",
        "3.7193353637e-23 = [[ 1.  1.  2.  3.]]\n",
        "iteration 390\n",
        "9.50451671015e-24 = [[ 1.  1.  2.  3.]]\n",
        "iteration 400\n",
        "2.4309987306e-24 = [[ 1.  1.  2.  3.]]\n",
        "iteration 410\n",
        "6.20340888774e-25 = [[ 1.  1.  2.  3.]]\n",
        "iteration 420\n",
        "1.58301753231e-25 = [[ 1.  1.  2.  3.]]\n",
        "iteration 430\n",
        "4.04914414041e-26 = [[ 1.  1.  2.  3.]]\n",
        "iteration 440\n",
        "1.04816441515e-26 = [[ 1.  1.  2.  3.]]\n",
        "iteration 450\n",
        "2.65634118691e-27 = [[ 1.  1.  2.  3.]]\n",
        "iteration 460\n",
        "7.74069763248e-28 = [[ 1.  1.  2.  3.]]\n",
        "iteration 470\n",
        "3.48528608688e-28 = [[ 1.  1.  2.  3.]]\n",
        "iteration 480\n",
        "2.38679727636e-28 = [[ 1.  1.  2.  3.]]\n",
        "iteration 490\n",
        "1.83410160464e-28 = [[ 1.  1.  2.  3.]]\n"
       ]
      }
     ],
     "prompt_number": 206
    },
    {
     "cell_type": "code",
     "collapsed": false,
     "input": [],
     "language": "python",
     "metadata": {},
     "outputs": []
    },
    {
     "cell_type": "code",
     "collapsed": false,
     "input": [],
     "language": "python",
     "metadata": {},
     "outputs": [
      {
       "output_type": "stream",
       "stream": "stdout",
       "text": [
        "(5, 4)\n"
       ]
      }
     ],
     "prompt_number": 183
    },
    {
     "cell_type": "code",
     "collapsed": false,
     "input": [],
     "language": "python",
     "metadata": {},
     "outputs": [
      {
       "output_type": "stream",
       "stream": "stdout",
       "text": [
        "(5, 1)\n",
        "(1, 3)\n"
       ]
      }
     ],
     "prompt_number": 185
    },
    {
     "cell_type": "code",
     "collapsed": false,
     "input": [
      "# inversion of exponentiated matrices with jordan form\n",
      "from sympy import Matrix\n",
      "import numpy as np"
     ],
     "language": "python",
     "metadata": {},
     "outputs": [],
     "prompt_number": 33
    },
    {
     "cell_type": "code",
     "collapsed": false,
     "input": [
      "# m = pjp^-1\n",
      "# e^m = pe^jp^-1 (e^j needs to be calculated specially)\n",
      "\n",
      "# NOTE: at 3x3 some of P and J are complex\n",
      "# but it can be handled\n",
      "\n",
      "# PROBLEM: even 3x3 is pretty slow to calculate jordan form\n",
      "m=np.matrix(np.random.rand(4,4))\n",
      "print m\n",
      "#m = np.matrix([[.32,-4],[2, 6]])\n",
      "P, J = Matrix(m).jordan_form()\n",
      "print P\n",
      "print J\n",
      "p = np.matrix(P).astype(complex)\n",
      "pi = np.linalg.inv(p)\n",
      "ej = np.exp(np.matrix(J).astype(complex))\n",
      "negej = np.exp(-np.matrix(J).astype(complex))\n",
      "# kludgy; i just want to exponentiate the main diagonal\n",
      "# WARNING: might some off-diags be 1 in jordan form?\n",
      "for x in range(ej.shape[0]):\n",
      "    for y in range(ej.shape[0]):\n",
      "        if x != y:\n",
      "            ej[x,y]=0\n",
      "            negej[x,y]=0\n",
      "em = p*ej*pi\n",
      "invem = p*negej*pi\n",
      "\n",
      "# very close to I\n",
      "print em*invem"
     ],
     "language": "python",
     "metadata": {},
     "outputs": []
    },
    {
     "cell_type": "code",
     "collapsed": false,
     "input": [],
     "language": "python",
     "metadata": {},
     "outputs": []
    }
   ],
   "metadata": {}
  }
 ]
}